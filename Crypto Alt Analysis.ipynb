{
 "cells": [
  {
   "cell_type": "markdown",
   "metadata": {},
   "source": [
    "# Crypto Altcoin Analysis\n",
    "This workbook will walk through extracting data from Coinbase on all altcoins available with a USD pairing, then clean data and do some performance and correlation analysis.\n",
    "\n"
   ]
  },
  {
   "cell_type": "code",
   "execution_count": 1,
   "metadata": {
    "jupyter": {
     "outputs_hidden": false
    },
    "pycharm": {
     "name": "#%%\n"
    }
   },
   "outputs": [
    {
     "ename": "ModuleNotFoundError",
     "evalue": "No module named 'panel'",
     "output_type": "error",
     "traceback": [
      "\u001b[1;31m---------------------------------------------------------------------------\u001b[0m",
      "\u001b[1;31mModuleNotFoundError\u001b[0m                       Traceback (most recent call last)",
      "\u001b[1;32m<ipython-input-1-1a62f770bd9a>\u001b[0m in \u001b[0;36m<module>\u001b[1;34m\u001b[0m\n\u001b[0;32m      1\u001b[0m \u001b[1;31m# Imports\u001b[0m\u001b[1;33m\u001b[0m\u001b[1;33m\u001b[0m\u001b[1;33m\u001b[0m\u001b[0m\n\u001b[1;32m----> 2\u001b[1;33m \u001b[1;32mimport\u001b[0m \u001b[0mpanel\u001b[0m \u001b[1;32mas\u001b[0m \u001b[0mpn\u001b[0m\u001b[1;33m\u001b[0m\u001b[1;33m\u001b[0m\u001b[0m\n\u001b[0m\u001b[0;32m      3\u001b[0m \u001b[0mpn\u001b[0m\u001b[1;33m.\u001b[0m\u001b[0mextension\u001b[0m\u001b[1;33m(\u001b[0m\u001b[1;34m'plotly'\u001b[0m\u001b[1;33m)\u001b[0m\u001b[1;33m\u001b[0m\u001b[1;33m\u001b[0m\u001b[0m\n\u001b[0;32m      4\u001b[0m \u001b[1;32mimport\u001b[0m \u001b[0mplotly\u001b[0m\u001b[1;33m.\u001b[0m\u001b[0mexpress\u001b[0m \u001b[1;32mas\u001b[0m \u001b[0mpx\u001b[0m\u001b[1;33m\u001b[0m\u001b[1;33m\u001b[0m\u001b[0m\n\u001b[0;32m      5\u001b[0m \u001b[1;32mimport\u001b[0m \u001b[0mnumpy\u001b[0m \u001b[1;32mas\u001b[0m \u001b[0mnp\u001b[0m\u001b[1;33m\u001b[0m\u001b[1;33m\u001b[0m\u001b[0m\n",
      "\u001b[1;31mModuleNotFoundError\u001b[0m: No module named 'panel'"
     ]
    }
   ],
   "source": [
    "# Imports\n",
    "import panel as pn\n",
    "pn.extension('plotly')\n",
    "import plotly.express as px\n",
    "import numpy as np\n",
    "import pandas as pd\n",
    "#from Historic_Crypto import HistoricalData\n",
    "import hvplot.pandas\n",
    "#import matplotlib.pyplot as plt\n",
    "import os\n",
    "from pathlib import Path\n",
    "from dotenv import load_dotenv\n",
    "import csv\n",
    "import cbpro\n",
    "import requests\n",
    "import time"
   ]
  },
  {
   "cell_type": "code",
   "execution_count": null,
   "metadata": {
    "jupyter": {
     "outputs_hidden": false
    },
    "pycharm": {
     "name": "#%%\n"
    }
   },
   "outputs": [],
   "source": [
    "# Setup Public Client for Coinbase\n",
    "public_client = cbpro.PublicClient()"
   ]
  },
  {
   "cell_type": "code",
   "execution_count": null,
   "metadata": {
    "pycharm": {
     "name": "#%%\n"
    }
   },
   "outputs": [],
   "source": [
    "# Pull a list of all currencies (Assets and pairings)\n",
    "currency_response_list = public_client.get_currencies()"
   ]
  },
  {
   "cell_type": "code",
   "execution_count": null,
   "metadata": {},
   "outputs": [],
   "source": [
    "# Pull only the assets that are marked as crypto\n",
    "\n",
    "# Create empty list of cryptos\n",
    "crypto_list = []\n",
    "\n",
    "# If the asset is labeled as a crypto add to crypto list\n",
    "for asset in currency_response_list:\n",
    "    if asset['details']['type'] == 'crypto':\n",
    "        crypto_list.append(asset['id'])\n",
    "crypto_list.sort()\n",
    "print(crypto_list)\n",
    "print(len(crypto_list))"
   ]
  },
  {
   "cell_type": "code",
   "execution_count": null,
   "metadata": {},
   "outputs": [],
   "source": [
    "# Get a list of all Coinbase Products\n",
    "all_products_list = public_client.get_products()\n",
    "print(len(all_products_list))\n",
    "#all_products_list"
   ]
  },
  {
   "cell_type": "code",
   "execution_count": null,
   "metadata": {},
   "outputs": [],
   "source": [
    "# Find product ids that have a USD quote_currency and create a list\n",
    "\n",
    "# Create Empty List for USD paired products\n",
    "usd_product_id_list = []\n",
    "for product in all_products_list:\n",
    "    if product['quote_currency'] == 'USD':\n",
    "        usd_product_id_list.append(product['id'])\n",
    "usd_product_id_list.sort()\n",
    "cleaned_product_list = []\n",
    "[cleaned_product_list.append(x) for x in usd_product_id_list if x not in cleaned_product_list]\n",
    "print(cleaned_product_list)\n",
    "print(type(cleaned_product_list))\n",
    "print(len(cleaned_product_list))"
   ]
  },
  {
   "cell_type": "code",
   "execution_count": null,
   "metadata": {},
   "outputs": [],
   "source": [
    "# Make calls to the Products endpoint for each product_Id and pull candlestick data for the last 300 weeks\n",
    "# GET https://api.pro.coinbase.com/products/<product-id>/candles\n",
    "# Reponses contain the following metrics in a list of lists.\n",
    "# [0] time bucket start time\n",
    "# [1] low lowest price during the bucket interval\n",
    "# [2] high highest price during the bucket interval\n",
    "# [3] open opening price (first trade) in the bucket interval\n",
    "# [4] close closing price (last trade) in the bucket interval\n",
    "# [5] volume volume of trading activity during the bucket interval\n",
    "# columns1 = ['Date'] + usd_product_id_list\n",
    "main_df = pd.DataFrame()\n",
    "\n",
    "# Apparently only some of these product ID's have data going back to 2019 - these are those\n",
    "good_list = ['ALGO-USD', 'BCH-USD', 'BTC-USD', 'DASH-USD', 'EOS-USD', 'ETC-USD', 'ETH-USD', 'LINK-USD', 'LTC-USD', 'REP-USD', 'UMA-USD', 'XLM-USD', 'XTZ-USD', 'ZRX-USD']\n",
    "\n",
    "for item in good_list:\n",
    "    historical = pd.DataFrame(public_client.get_product_historic_rates(item, start='2019-01-01T00:00:00-06:00', end='2019-10-19T00:00:00-05:00', granularity=86400))\n",
    "    historical.columns=[\"Date\",\"Open\",\"High\",\"Low\",item,\"Volume\"]\n",
    "    historical['Date'] = pd.to_datetime(historical['Date'], unit='s')\n",
    "    historical.set_index('Date', inplace=True)\n",
    "    historical.sort_values(by='Date', ascending=True, inplace=True)\n",
    "    historical = historical.drop(['Open', 'High', 'Low', 'Volume'], axis=1)\n",
    "    main_df = pd.concat([main_df, historical], axis=1)\n",
    "    time.sleep(10)\n",
    "print(main_df)\n",
    "\n",
    "    "
   ]
  },
  {
   "cell_type": "code",
   "execution_count": null,
   "metadata": {},
   "outputs": [],
   "source": [
    "# Cleaning assets with less than 2 years\n"
   ]
  },
  {
   "cell_type": "code",
   "execution_count": null,
   "metadata": {},
   "outputs": [],
   "source": []
  }
 ],
 "metadata": {
  "kernelspec": {
   "display_name": "Python 3",
   "language": "python",
   "name": "python3"
  },
  "language_info": {
   "codemirror_mode": {
    "name": "ipython",
    "version": 3
   },
   "file_extension": ".py",
   "mimetype": "text/x-python",
   "name": "python",
   "nbconvert_exporter": "python",
   "pygments_lexer": "ipython3",
   "version": "3.8.8"
  }
 },
 "nbformat": 4,
 "nbformat_minor": 4
}
