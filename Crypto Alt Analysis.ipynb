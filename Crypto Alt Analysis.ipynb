{
 "cells": [
  {
   "cell_type": "markdown",
   "metadata": {},
   "source": [
    "# Crypto Altcoin Analysis\n",
    "This workbook will walk through extracting data from Coinbase on all altcoins available with a USD pairing, then clean data and do some performance and correlation analysis.\n",
    "\n"
   ]
  },
  {
   "cell_type": "code",
   "execution_count": 1,
   "metadata": {
    "collapsed": false,
    "jupyter": {
     "outputs_hidden": false
    },
    "pycharm": {
     "name": "#%%\n"
    }
   },
   "outputs": [
    {
     "ename": "ModuleNotFoundError",
     "evalue": "No module named 'panel'",
     "output_type": "error",
     "traceback": [
      "\u001b[0;31m---------------------------------------------------------------------------\u001b[0m",
      "\u001b[0;31mModuleNotFoundError\u001b[0m                       Traceback (most recent call last)",
      "\u001b[0;32m<ipython-input-1-1a62f770bd9a>\u001b[0m in \u001b[0;36m<module>\u001b[0;34m\u001b[0m\n\u001b[1;32m      1\u001b[0m \u001b[0;31m# Imports\u001b[0m\u001b[0;34m\u001b[0m\u001b[0;34m\u001b[0m\u001b[0;34m\u001b[0m\u001b[0m\n\u001b[0;32m----> 2\u001b[0;31m \u001b[0;32mimport\u001b[0m \u001b[0mpanel\u001b[0m \u001b[0;32mas\u001b[0m \u001b[0mpn\u001b[0m\u001b[0;34m\u001b[0m\u001b[0;34m\u001b[0m\u001b[0m\n\u001b[0m\u001b[1;32m      3\u001b[0m \u001b[0mpn\u001b[0m\u001b[0;34m.\u001b[0m\u001b[0mextension\u001b[0m\u001b[0;34m(\u001b[0m\u001b[0;34m'plotly'\u001b[0m\u001b[0;34m)\u001b[0m\u001b[0;34m\u001b[0m\u001b[0;34m\u001b[0m\u001b[0m\n\u001b[1;32m      4\u001b[0m \u001b[0;32mimport\u001b[0m \u001b[0mplotly\u001b[0m\u001b[0;34m.\u001b[0m\u001b[0mexpress\u001b[0m \u001b[0;32mas\u001b[0m \u001b[0mpx\u001b[0m\u001b[0;34m\u001b[0m\u001b[0;34m\u001b[0m\u001b[0m\n\u001b[1;32m      5\u001b[0m \u001b[0;32mimport\u001b[0m \u001b[0mnumpy\u001b[0m \u001b[0;32mas\u001b[0m \u001b[0mnp\u001b[0m\u001b[0;34m\u001b[0m\u001b[0;34m\u001b[0m\u001b[0m\n",
      "\u001b[0;31mModuleNotFoundError\u001b[0m: No module named 'panel'"
     ]
    }
   ],
   "source": [
    "# Imports\n",
    "import panel as pn\n",
    "pn.extension('plotly')\n",
    "import plotly.express as px\n",
    "import numpy as np\n",
    "import pandas as pd\n",
    "#from Historic_Crypto import HistoricalData\n",
    "import hvplot.pandas\n",
    "#import matplotlib.pyplot as plt\n",
    "import os\n",
    "from pathlib import Path\n",
    "from dotenv import load_dotenv\n",
    "import csv\n",
    "import cbpro\n",
    "import requests\n",
    "import time\n",
    "#wallaawallabingbangalangalang"
   ]
  },
  {
   "cell_type": "code",
   "execution_count": 2,
   "metadata": {
    "collapsed": false,
    "jupyter": {
     "outputs_hidden": false
    },
    "pycharm": {
     "name": "#%%\n"
    }
   },
   "outputs": [],
   "source": [
    "# Setup Public Client for Coinbase\n",
    "public_client = cbpro.PublicClient()"
   ]
  },
  {
   "cell_type": "code",
   "execution_count": 3,
   "metadata": {
    "pycharm": {
     "name": "#%%\n"
    }
   },
   "outputs": [],
   "source": [
    "# Pull a list of all currencies (Assets and pairings)\n",
    "currency_response_list = public_client.get_currencies()"
   ]
  },
  {
   "cell_type": "code",
   "execution_count": 8,
   "metadata": {},
   "outputs": [
    {
     "name": "stdout",
     "output_type": "stream",
     "text": [
      "['1INCH', 'AAVE', 'ADA', 'ALGO', 'AMP', 'ANKR', 'ATOM', 'BAL', 'BAND', 'BAT', 'BCH', 'BNT', 'BOND', 'BTC', 'CGLD', 'CHZ', 'CLV', 'COMP', 'CRV', 'CTSI', 'CVC', 'DAI', 'DASH', 'DNT', 'DOGE', 'DOT', 'ENJ', 'EOS', 'ETC', 'ETH', 'FARM', 'FET', 'FIL', 'FORTH', 'GNT', 'GRT', 'GTC', 'ICP', 'KEEP', 'KNC', 'LINK', 'LOOM', 'LPT', 'LRC', 'LTC', 'MANA', 'MASK', 'MATIC', 'MIR', 'MKR', 'MLN', 'NKN', 'NMR', 'NU', 'OGN', 'OMG', 'OXT', 'PAX', 'POLY', 'QNT', 'REN', 'REP', 'RLC', 'RLY', 'SHIB', 'SKL', 'SNX', 'SOL', 'STORJ', 'SUSHI', 'TRB', 'UMA', 'UNI', 'USDC', 'USDT', 'WBTC', 'XLM', 'XRP', 'XTZ', 'YFI', 'ZEC', 'ZRX']\n",
      "82\n"
     ]
    }
   ],
   "source": [
    "# Pull only the assets that are marked as crypto\n",
    "\n",
    "# Create empty list of cryptos\n",
    "crypto_list = []\n",
    "\n",
    "# If the asset is labeled as a crypto add to crypto list\n",
    "for asset in currency_response_list:\n",
    "    if asset['details']['type'] == 'crypto':\n",
    "        crypto_list.append(asset['id'])\n",
    "crypto_list.sort()\n",
    "print(crypto_list)\n",
    "print(len(crypto_list))"
   ]
  },
  {
   "cell_type": "code",
   "execution_count": 11,
   "metadata": {},
   "outputs": [
    {
     "name": "stdout",
     "output_type": "stream",
     "text": [
      "244\n"
     ]
    }
   ],
   "source": [
    "# Get a list of all Coinbase Products\n",
    "all_products_list = public_client.get_products()\n",
    "print(len(all_products_list))\n",
    "#all_products_list"
   ]
  },
  {
   "cell_type": "code",
   "execution_count": 26,
   "metadata": {},
   "outputs": [
    {
     "name": "stdout",
     "output_type": "stream",
     "text": [
      "['1INCH-USD', 'AAVE-USD', 'ADA-USD', 'ALGO-USD', 'AMP-USD', 'ANKR-USD', 'ATOM-USD', 'BAL-USD', 'BAND-USD', 'BAT-USD', 'BCH-USD', 'BNT-USD', 'BOND-USD', 'BTC-USD', 'CGLD-USD', 'CHZ-USD', 'CLV-USD', 'COMP-USD', 'CRV-USD', 'CTSI-USD', 'DAI-USD', 'DASH-USD', 'DOGE-USD', 'DOT-USD', 'ENJ-USD', 'EOS-USD', 'ETC-USD', 'ETH-USD', 'FARM-USD', 'FET-USD', 'FIL-USD', 'FORTH-USD', 'GRT-USD', 'GTC-USD', 'ICP-USD', 'KEEP-USD', 'KNC-USD', 'LINK-USD', 'LPT-USD', 'LRC-USD', 'LTC-USD', 'MANA-USD', 'MASK-USD', 'MATIC-USD', 'MIR-USD', 'MKR-USD', 'MLN-USD', 'NKN-USD', 'NMR-USD', 'NU-USD', 'OGN-USD', 'OMG-USD', 'OXT-USD', 'PAX-USD', 'POLY-USD', 'QNT-USD', 'REN-USD', 'REP-USD', 'RLC-USD', 'RLY-USD', 'SKL-USD', 'SNX-USD', 'SOL-USD', 'STORJ-USD', 'SUSHI-USD', 'TRB-USD', 'UMA-USD', 'UNI-USD', 'USDT-USD', 'WBTC-USD', 'XLM-USD', 'XTZ-USD', 'YFI-USD', 'ZEC-USD', 'ZRX-USD']\n",
      "<class 'list'>\n",
      "75\n"
     ]
    }
   ],
   "source": [
    "# Find product ids that have a USD quote_currency and create a list\n",
    "\n",
    "# Create Empty List for USD paired products\n",
    "usd_product_id_list = []\n",
    "for product in all_products_list:\n",
    "    if product['quote_currency'] == 'USD':\n",
    "        usd_product_id_list.append(product['id'])\n",
    "usd_product_id_list.sort()\n",
    "cleaned_product_list = []\n",
    "[cleaned_product_list.append(x) for x in usd_product_id_list if x not in cleaned_product_list]\n",
    "print(cleaned_product_list)\n",
    "print(type(cleaned_product_list))\n",
    "print(len(cleaned_product_list))"
   ]
  },
  {
   "cell_type": "code",
   "execution_count": 41,
   "metadata": {},
   "outputs": [
    {
     "name": "stdout",
     "output_type": "stream",
     "text": [
      "Data for ALGO-USD\n",
      "Data for BCH-USD\n",
      "Data for BTC-USD\n",
      "Data for DASH-USD\n",
      "Data for EOS-USD\n",
      "Data for ETC-USD\n",
      "Data for ETH-USD\n",
      "Data for LINK-USD\n",
      "Data for LTC-USD\n",
      "Data for REP-USD\n",
      "Data for UMA-USD\n",
      "Data for XLM-USD\n",
      "Data for XTZ-USD\n",
      "Data for ZRX-USD\n",
      "            ALGO-USD  BCH-USD   BTC-USD  DASH-USD  EOS-USD  ETC-USD  ETH-USD  \\\n",
      "Date                                                                           \n",
      "2019-01-02       NaN   170.00   3890.79       NaN      NaN    5.350   153.50   \n",
      "2019-01-03       NaN   159.88   3787.57       NaN      NaN    5.030   147.23   \n",
      "2019-01-04       NaN   159.39   3820.82       NaN      NaN    5.220   153.24   \n",
      "2019-01-05       NaN   158.41   3798.62       NaN      NaN    5.110   154.21   \n",
      "2019-01-06       NaN   164.70   4040.99       NaN      NaN    5.450   155.92   \n",
      "2019-01-07       NaN   159.71   4006.01       NaN      NaN    5.010   150.62   \n",
      "2019-01-08       NaN   159.79   3993.86       NaN      NaN    4.970   148.97   \n",
      "2019-01-09       NaN   158.70   4004.12       NaN      NaN    4.970   149.50   \n",
      "2019-01-10       NaN   133.11   3626.12       NaN      NaN    4.570   126.41   \n",
      "2019-01-11       NaN   129.28   3635.69       NaN      NaN    4.630   125.83   \n",
      "2019-01-12       NaN   133.02   3619.41       NaN      NaN    4.570   124.59   \n",
      "2019-01-13       NaN   124.66   3514.24       NaN      NaN    4.350   115.58   \n",
      "2019-01-14       NaN   132.33   3664.19       NaN      NaN    4.500   128.37   \n",
      "2019-01-15       NaN   126.38   3580.76       NaN      NaN    4.400   120.00   \n",
      "2019-01-16       NaN   127.57   3609.71       NaN      NaN    4.460   122.12   \n",
      "2019-01-17       NaN   129.76   3640.65       NaN      NaN    4.490   122.55   \n",
      "2019-01-18       NaN   126.74   3607.85       NaN      NaN    4.450   119.53   \n",
      "2019-01-19       NaN   128.53   3682.65       NaN      NaN    4.460   123.17   \n",
      "2019-01-20       NaN   121.85   3536.19       NaN      NaN    4.390   117.43   \n",
      "2019-01-21       NaN   121.53   3531.76       NaN      NaN    4.370   115.86   \n",
      "2019-01-22       NaN   127.34   3577.03       NaN      NaN    4.390   118.08   \n",
      "2019-01-23       NaN   131.28   3553.01       NaN      NaN    4.350   116.55   \n",
      "2019-01-24       NaN   128.22   3568.97       NaN      NaN    4.390   116.40   \n",
      "2019-01-25       NaN   126.50   3562.17       NaN      NaN    4.360   114.95   \n",
      "2019-01-26       NaN   125.21   3556.07       NaN      NaN    4.360   115.01   \n",
      "2019-01-27       NaN   120.67   3531.02       NaN      NaN    4.320   111.35   \n",
      "2019-01-28       NaN   111.05   3429.95       NaN      NaN    3.960   105.47   \n",
      "2019-01-29       NaN   109.01   3397.42       NaN      NaN    3.890   104.02   \n",
      "2019-01-30       NaN   116.20   3437.55       NaN      NaN    3.950   107.61   \n",
      "2019-01-31       NaN   112.95   3411.50       NaN      NaN    3.900   105.79   \n",
      "...              ...      ...       ...       ...      ...      ...      ...   \n",
      "2019-09-21    0.3157   311.60   9973.99    92.817    3.997    6.114   214.80   \n",
      "2019-09-22    0.3003   306.75  10026.80    90.764    3.812    5.990   211.10   \n",
      "2019-09-23    0.2674   292.06   9693.74    86.545    3.682    5.809   200.80   \n",
      "2019-09-24    0.1947   246.26   8530.01    72.083    2.774    4.964   166.26   \n",
      "2019-09-25    0.2050   227.90   8438.35    73.423    2.865    4.860   170.00   \n",
      "2019-09-26    0.1900   214.11   8060.00    68.849    2.780    4.755   165.85   \n",
      "2019-09-27    0.1902   220.65   8193.99    71.580    2.833    4.680   174.44   \n",
      "2019-09-28    0.2036   227.62   8217.47    71.539    2.833    4.684   173.90   \n",
      "2019-09-29    0.2247   218.17   8052.40    69.027    2.778    4.557   169.38   \n",
      "2019-09-30    0.2518   227.65   8304.96    71.000    2.966    4.713   181.17   \n",
      "2019-10-01    0.2340   223.68   8321.52    70.718    2.948    4.648   176.15   \n",
      "2019-10-02    0.2335   225.42   8381.72    70.969    3.006    4.698   180.82   \n",
      "2019-10-03    0.2293   222.64   8240.41    69.297    2.929    4.614   175.05   \n",
      "2019-10-04    0.2286   221.76   8156.67    69.864    3.009    4.592   175.97   \n",
      "2019-10-05    0.2261   223.51   8147.63    70.214    2.993    4.626   176.73   \n",
      "2019-10-06    0.2122   220.47   7859.79    69.537    2.916    4.490   170.18   \n",
      "2019-10-07    0.2178   232.97   8209.00    71.007    3.184    4.673   180.26   \n",
      "2019-10-08    0.2250   231.54   8180.00    71.058    3.164    4.635   180.72   \n",
      "2019-10-09    0.2399   239.53   8590.00    73.698    3.243    5.089   193.26   \n",
      "2019-10-10    0.2520   230.31   8587.50    72.603    3.115    4.845   191.79   \n",
      "2019-10-11    0.2505   221.07   8267.33    69.500    3.063    4.646   180.84   \n",
      "2019-10-12    0.2556   224.52   8309.03    70.627    3.070    4.720   179.86   \n",
      "2019-10-13    0.2508   223.23   8282.97    70.279    3.104    4.749   181.18   \n",
      "2019-10-14    0.2667   228.03   8355.00    71.300    3.163    4.792   186.85   \n",
      "2019-10-15    0.2475   222.38   8162.44    71.600    2.962    4.576   180.58   \n",
      "2019-10-16    0.2290   217.07   7993.54    68.194    2.922    4.430   174.50   \n",
      "2019-10-17    0.2358   220.34   8076.20    69.028    2.949    4.511   177.31   \n",
      "2019-10-18    0.2258   212.26   7954.16    68.099    2.883    4.439   172.96   \n",
      "2019-10-19    0.2232   213.32   7965.28    67.500    2.867    4.435   172.09   \n",
      "2020-09-08       NaN      NaN       NaN       NaN      NaN      NaN      NaN   \n",
      "\n",
      "            LINK-USD  LTC-USD  REP-USD  UMA-USD   XLM-USD  XTZ-USD   ZRX-USD  \n",
      "Date                                                                          \n",
      "2019-01-02       NaN    32.94      NaN      NaN       NaN      NaN  0.325100  \n",
      "2019-01-03       NaN    31.60      NaN      NaN       NaN      NaN  0.317246  \n",
      "2019-01-04       NaN    32.02      NaN      NaN       NaN      NaN  0.319433  \n",
      "2019-01-05       NaN    34.48      NaN      NaN       NaN      NaN  0.320905  \n",
      "2019-01-06       NaN    38.88      NaN      NaN       NaN      NaN  0.337460  \n",
      "2019-01-07       NaN    37.71      NaN      NaN       NaN      NaN  0.323107  \n",
      "2019-01-08       NaN    39.13      NaN      NaN       NaN      NaN  0.323542  \n",
      "2019-01-09       NaN    38.58      NaN      NaN       NaN      NaN  0.325460  \n",
      "2019-01-10       NaN    33.27      NaN      NaN       NaN      NaN  0.283958  \n",
      "2019-01-11       NaN    31.79      NaN      NaN       NaN      NaN  0.284160  \n",
      "2019-01-12       NaN    32.04      NaN      NaN       NaN      NaN  0.281580  \n",
      "2019-01-13       NaN    29.92      NaN      NaN       NaN      NaN  0.268266  \n",
      "2019-01-14       NaN    32.07      NaN      NaN       NaN      NaN  0.284514  \n",
      "2019-01-15       NaN    30.99      NaN      NaN       NaN      NaN  0.278076  \n",
      "2019-01-16       NaN    31.40      NaN      NaN       NaN      NaN  0.296595  \n",
      "2019-01-17       NaN    31.62      NaN      NaN       NaN      NaN  0.303658  \n",
      "2019-01-18       NaN    30.96      NaN      NaN       NaN      NaN  0.289722  \n",
      "2019-01-19       NaN    32.22      NaN      NaN       NaN      NaN  0.297112  \n",
      "2019-01-20       NaN    30.61      NaN      NaN       NaN      NaN  0.281892  \n",
      "2019-01-21       NaN    30.82      NaN      NaN       NaN      NaN  0.278888  \n",
      "2019-01-22       NaN    31.48      NaN      NaN       NaN      NaN  0.285302  \n",
      "2019-01-23       NaN    31.60      NaN      NaN       NaN      NaN  0.297764  \n",
      "2019-01-24       NaN    32.47      NaN      NaN       NaN      NaN  0.300858  \n",
      "2019-01-25       NaN    32.73      NaN      NaN       NaN      NaN  0.288353  \n",
      "2019-01-26       NaN    32.64      NaN      NaN       NaN      NaN  0.287500  \n",
      "2019-01-27       NaN    32.02      NaN      NaN       NaN      NaN  0.272000  \n",
      "2019-01-28       NaN    30.96      NaN      NaN       NaN      NaN  0.259765  \n",
      "2019-01-29       NaN    30.69      NaN      NaN       NaN      NaN  0.250245  \n",
      "2019-01-30       NaN    31.53      NaN      NaN       NaN      NaN  0.256791  \n",
      "2019-01-31       NaN    31.24      NaN      NaN       NaN      NaN  0.247795  \n",
      "...              ...      ...      ...      ...       ...      ...       ...  \n",
      "2019-09-21   1.88000    73.18    10.75      NaN  0.069626   1.0725  0.247124  \n",
      "2019-09-22   1.81940    72.26    10.47      NaN  0.068589   1.0479  0.237211  \n",
      "2019-09-23   1.80177    66.47    10.53      NaN  0.063373   1.0530  0.208438  \n",
      "2019-09-24   1.72850    55.50     8.93      NaN  0.054151   0.9199  0.191351  \n",
      "2019-09-25   1.75001    57.53     8.62      NaN  0.057395   0.8526  0.213803  \n",
      "2019-09-26   1.65590    55.21     7.97      NaN  0.058564   0.8519  0.218491  \n",
      "2019-09-27   1.66567    56.05     8.42      NaN  0.058922   0.8862  0.214366  \n",
      "2019-09-28   1.67973    55.53     8.41      NaN  0.058460   0.8906  0.210999  \n",
      "2019-09-29   1.70105    53.91     8.12      NaN  0.058114   0.8785  0.202118  \n",
      "2019-09-30   1.77329    56.09     8.55      NaN  0.062127   0.9017  0.204336  \n",
      "2019-10-01   1.83509    55.80     8.31      NaN  0.058875   0.9487  0.212170  \n",
      "2019-10-02   2.02610    56.43     8.39      NaN  0.059795   0.9449  0.208456  \n",
      "2019-10-03   1.94927    56.44     8.20      NaN  0.058692   0.9340  0.212300  \n",
      "2019-10-04   1.97272    56.51     8.21      NaN  0.058729   0.9246  0.220406  \n",
      "2019-10-05   1.96325    56.85     8.11      NaN  0.059056   0.9167  0.222054  \n",
      "2019-10-06   2.16693    54.48     7.99      NaN  0.058385   0.8699  0.211742  \n",
      "2019-10-07   2.40398    57.56     8.33      NaN  0.062176   0.8978  0.220753  \n",
      "2019-10-08   2.59411    57.00     8.45      NaN  0.061964   0.8985  0.256149  \n",
      "2019-10-09   2.81207    59.26     8.67      NaN  0.063175   0.9398  0.255687  \n",
      "2019-10-10   2.64758    57.77     8.48      NaN  0.061625   0.9188  0.271569  \n",
      "2019-10-11   2.74999    55.94     8.18      NaN  0.059933   0.9047  0.256358  \n",
      "2019-10-12   2.60399    55.77     8.24      NaN  0.060926   0.8861  0.257618  \n",
      "2019-10-13   2.49153    56.48     8.16      NaN  0.061397   0.9018  0.297799  \n",
      "2019-10-14   2.53053    56.87     8.34      NaN  0.066259   0.9403  0.331772  \n",
      "2019-10-15   2.39047    54.56     8.16      NaN  0.063971   0.9066  0.314661  \n",
      "2019-10-16   2.38070    52.51     8.09      NaN  0.061713   0.8803  0.308834  \n",
      "2019-10-17   2.42135    54.95     8.15      NaN  0.065200   0.8922  0.314250  \n",
      "2019-10-18   2.35035    53.31     8.28      NaN  0.063167   0.8891  0.300326  \n",
      "2019-10-19   2.35582    53.81     8.11      NaN  0.062482   0.8975  0.317937  \n",
      "2020-09-08       NaN      NaN      NaN    15.75       NaN      NaN       NaN  \n",
      "\n",
      "[292 rows x 14 columns]\n"
     ]
    }
   ],
   "source": [
    "# Make calls to the Products endpoint for each product_Id and pull candlestick data for the last 300 weeks\n",
    "# GET https://api.pro.coinbase.com/products/<product-id>/candles\n",
    "# Reponses contain the following metrics in a list of lists.\n",
    "# [0] time bucket start time\n",
    "# [1] low lowest price during the bucket interval\n",
    "# [2] high highest price during the bucket interval\n",
    "# [3] open opening price (first trade) in the bucket interval\n",
    "# [4] close closing price (last trade) in the bucket interval\n",
    "# [5] volume volume of trading activity during the bucket interval\n",
    "# columns1 = ['Date'] + usd_product_id_list\n",
    "main_df = pd.DataFrame()\n",
    "\n",
    "# Apparently only some of these product ID's have data going back to 2019 - these are those\n",
    "good_list = ['ALGO-USD', 'BCH-USD', 'BTC-USD', 'DASH-USD', 'EOS-USD', 'ETC-USD', 'ETH-USD', 'LINK-USD', 'LTC-USD', 'REP-USD', 'UMA-USD', 'XLM-USD', 'XTZ-USD', 'ZRX-USD']\n",
    "\n",
    "for item in good_list:\n",
    "    historical = pd.DataFrame(public_client.get_product_historic_rates(item, start='2019-01-01T00:00:00-06:00', end='2019-10-19T00:00:00-05:00', granularity=86400))\n",
    "    historical.columns=[\"Date\",\"Open\",\"High\",\"Low\",item,\"Volume\"]\n",
    "    historical['Date'] = pd.to_datetime(historical['Date'], unit='s')\n",
    "    historical.set_index('Date', inplace=True)\n",
    "    historical.sort_values(by='Date', ascending=True, inplace=True)\n",
    "    historical = historical.drop(['Open', 'High', 'Low', 'Volume'], axis=1)\n",
    "    main_df = pd.concat([main_df, historical], axis=1)\n",
    "    time.sleep(10)\n",
    "print(main_df)\n",
    "\n",
    "    "
   ]
  },
  {
   "cell_type": "code",
   "execution_count": null,
   "metadata": {},
   "outputs": [],
   "source": []
  },
  {
   "cell_type": "code",
   "execution_count": null,
   "metadata": {},
   "outputs": [],
   "source": []
  }
 ],
 "metadata": {
  "kernelspec": {
   "display_name": "Python 3",
   "language": "python",
   "name": "python3"
  },
  "language_info": {
   "codemirror_mode": {
    "name": "ipython",
    "version": 3
   },
   "file_extension": ".py",
   "mimetype": "text/x-python",
   "name": "python",
   "nbconvert_exporter": "python",
   "pygments_lexer": "ipython3",
   "version": "3.8.5"
  }
 },
 "nbformat": 4,
 "nbformat_minor": 4
}
